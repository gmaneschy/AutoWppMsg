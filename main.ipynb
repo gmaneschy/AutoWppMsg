{
 "cells": [
  {
   "cell_type": "code",
   "execution_count": 1,
   "id": "95d2207f-300f-4282-b5d9-0fb7589f9c49",
   "metadata": {},
   "outputs": [],
   "source": [
    "from selenium import webdriver\n",
    "from selenium.webdriver.chrome.service import Service\n",
    "from selenium.webdriver.common.keys import Keys\n",
    "from selenium.webdriver.common.action_chains import ActionChains\n",
    "import pyperclip\n",
    "import time\n",
    "service = Service()\n",
    "nav = webdriver.Chrome(service = service)\n",
    "time.sleep(5)\n",
    "nav.get(\"https://web.whatsapp.com\")\n",
    "time.sleep(20)"
   ]
  },
  {
   "cell_type": "code",
   "execution_count": 20,
   "id": "38e60f0b-c2ea-43b5-95a3-3d4c53b48b30",
   "metadata": {},
   "outputs": [],
   "source": [
    "mensagem = \"\"\"\n",
    " ⠀⠀⢀⣀⠤⠿⢤⢖⡆⠀⠀⠀⠀⠀⠀⠀⠀⠀⠀⠀⠀⠀⠀⠀⠀⠀\n",
    "⡔⢩⠂⠀⠒⠗⠈⠀⠉⠢⠄⣀⠠⠤⠄⠒⢖⡒⢒⠂⠤⢄⠀⠀⠀⠀\n",
    "⠇⠤⠀⠀⠀⠀⠀⠀⠀⠀⠀⠀⠈⠀⠀⠈⠀⠈⠈⡨⢀⠡⡪⠢⡀⠀\n",
    "⠈⠒⠀⠤⠤⣄⡆⡂⠀⠀⠀⠀⠀⠀⠀⠀⠀⠀⠀⠀⠀⠢⠀⢕⠱⠀\n",
    "⠀⠀⠀⠀⠀⠈⢳⣐⡐⠐⡀⠀⠀⠀⠀⠀⠀⠀⠀⠀⠀⠀⠈⠀⠁⠇\n",
    "⠀⠀⠀⠀⠀⠀⠀⠑⢤⢁⠀⠆⠀⠀⠀⠀⠀⢀⢰⠀⠀⠀⡀⢄⡜⠀\n",
    "⠀⠀⠀⠀⠀⠀⠀⠀⠘⡦⠄⡷⠢⠤⠤⠤⠤⢬⢈⡇⢠⣈⣰⠎⠀⠀\n",
    "⠀⠀⠀⠀⠀⠀⠀⠀⠀⣃⢸⡇⠀⠀⠀⠀⠀⠈⢪⢀⣺⡅⢈⠆⠀⠀\n",
    "⠀⠀⠀⠀⠀⠀⠀⠶⡿⠤⠚⠁⠀⠀⠀⢀⣠⡤⢺⣥⠟⢡⠃⠀⠀⠀\n",
    "⠀⠀⠀⠀⠀⠀⠀⠀⠀⠀⠀⠀⠀⠀⠀⠀⠉⠉⠀⠀⠀⠀⠀⠀⠀⠀\n",
    "\"\"\"\n",
    "\n",
    "lista_contatos = [\"Meu numero\", \"Gustavo Lino\", \"Miguel\", \"Rafael Maneschy\", \"Armário\", \"Dia das mães\", \"Tribo de Jean\"]"
   ]
  },
  {
   "cell_type": "code",
   "execution_count": 17,
   "id": "91f1f3c6-ea69-4092-9c0a-49688c0329ab",
   "metadata": {},
   "outputs": [],
   "source": [
    "# enviar a mensagem para o Meu numero para poder enviar\n",
    "# clicar na lupa\n",
    "nav.find_element('xpath', '//*[@id=\"side\"]/div[1]/div/div[2]/button/div[2]').click()\n",
    "time.sleep(0.5)\n",
    "nav.find_element('xpath', '//*[@id=\"side\"]/div[1]/div/div[2]/div/div/div/p').send_keys(\"Meu numero\")\n",
    "time.sleep(0.5)\n",
    "nav.find_element('xpath', '//*[@id=\"side\"]/div[1]/div/div[2]/div/div/div/p').send_keys(Keys.ENTER)\n",
    "time.sleep(1)\n",
    "\n",
    "# escrever mensagem\n",
    "pyperclip.copy(mensagem)\n",
    "nav.find_element('xpath', '//*[@id=\"main\"]/footer/div[1]/div/span/div/div[2]/div[1]/div[2]/div[1]/p').send_keys(Keys.CONTROL + \"v\")\n",
    "time.sleep(0.5)\n",
    "\n",
    "# dar um enter\n",
    "nav.find_element('xpath', '//*[@id=\"main\"]/footer/div[1]/div/span/div/div[2]/div[1]/div[2]/div[1]/p').send_keys(Keys.ENTER)\n",
    "time.sleep(2)"
   ]
  },
  {
   "cell_type": "code",
   "execution_count": 19,
   "id": "8a9f4055-453e-4d56-802f-c492ffb7e7dd",
   "metadata": {},
   "outputs": [
    {
     "ename": "NoSuchElementException",
     "evalue": "Message: no such element: Unable to locate element: {\"method\":\"xpath\",\"selector\":\"//*[@id=\"app\"]/div/span[6]/div/ul/div/div/li[2]/div\"}\n  (Session info: chrome=136.0.7103.94); For documentation on this error, please visit: https://www.selenium.dev/documentation/webdriver/troubleshooting/errors#no-such-element-exception\nStacktrace:\n\tGetHandleVerifier [0x00007FF7D63ACF65+75717]\n\tGetHandleVerifier [0x00007FF7D63ACFC0+75808]\n\t(No symbol) [0x00007FF7D6178F9A]\n\t(No symbol) [0x00007FF7D61CF4C6]\n\t(No symbol) [0x00007FF7D61CF77C]\n\t(No symbol) [0x00007FF7D6222577]\n\t(No symbol) [0x00007FF7D61F73BF]\n\t(No symbol) [0x00007FF7D621F39C]\n\t(No symbol) [0x00007FF7D61F7153]\n\t(No symbol) [0x00007FF7D61C0421]\n\t(No symbol) [0x00007FF7D61C11B3]\n\tGetHandleVerifier [0x00007FF7D66AD74D+3223469]\n\tGetHandleVerifier [0x00007FF7D66A7CF2+3200338]\n\tGetHandleVerifier [0x00007FF7D66C5B23+3322755]\n\tGetHandleVerifier [0x00007FF7D63C6A3A+180890]\n\tGetHandleVerifier [0x00007FF7D63CE13F+211359]\n\tGetHandleVerifier [0x00007FF7D63B52B4+109332]\n\tGetHandleVerifier [0x00007FF7D63B5462+109762]\n\tGetHandleVerifier [0x00007FF7D639BA79+4825]\n\tBaseThreadInitThunk [0x00007FFFFD96257D+29]\n\tRtlUserThreadStart [0x00007FFFFF08AF08+40]\n",
     "output_type": "error",
     "traceback": [
      "\u001b[31m---------------------------------------------------------------------------\u001b[39m",
      "\u001b[31mNoSuchElementException\u001b[39m                    Traceback (most recent call last)",
      "\u001b[36mCell\u001b[39m\u001b[36m \u001b[39m\u001b[32mIn[19]\u001b[39m\u001b[32m, line 28\u001b[39m\n\u001b[32m     26\u001b[39m time.sleep(\u001b[32m2\u001b[39m)\n\u001b[32m     27\u001b[39m \u001b[38;5;66;03m# Clica Encaminhar\u001b[39;00m\n\u001b[32m---> \u001b[39m\u001b[32m28\u001b[39m \u001b[43mnav\u001b[49m\u001b[43m.\u001b[49m\u001b[43mfind_element\u001b[49m\u001b[43m(\u001b[49m\u001b[33;43m'\u001b[39;49m\u001b[33;43mxpath\u001b[39;49m\u001b[33;43m'\u001b[39;49m\u001b[43m,\u001b[49m\u001b[43m \u001b[49m\u001b[33;43m'\u001b[39;49m\u001b[33;43m//*[@id=\u001b[39;49m\u001b[33;43m\"\u001b[39;49m\u001b[33;43mapp\u001b[39;49m\u001b[33;43m\"\u001b[39;49m\u001b[33;43m]/div/span[6]/div/ul/div/div/li[2]/div\u001b[39;49m\u001b[33;43m'\u001b[39;49m\u001b[43m)\u001b[49m.click()\n\u001b[32m     29\u001b[39m time.sleep(\u001b[32m1\u001b[39m)\n\u001b[32m     31\u001b[39m \u001b[38;5;66;03m# Encontra todas as caixas de mensagem na conversa\u001b[39;00m\n",
      "\u001b[36mFile \u001b[39m\u001b[32m~\\PycharmProjects\\AutoWppMsg\\.venv\\Lib\\site-packages\\selenium\\webdriver\\remote\\webdriver.py:917\u001b[39m, in \u001b[36mWebDriver.find_element\u001b[39m\u001b[34m(self, by, value)\u001b[39m\n\u001b[32m    914\u001b[39m         \u001b[38;5;28;01mraise\u001b[39;00m NoSuchElementException(\u001b[33mf\u001b[39m\u001b[33m\"\u001b[39m\u001b[33mCannot locate relative element with: \u001b[39m\u001b[38;5;132;01m{\u001b[39;00mby.root\u001b[38;5;132;01m}\u001b[39;00m\u001b[33m\"\u001b[39m)\n\u001b[32m    915\u001b[39m     \u001b[38;5;28;01mreturn\u001b[39;00m elements[\u001b[32m0\u001b[39m]\n\u001b[32m--> \u001b[39m\u001b[32m917\u001b[39m \u001b[38;5;28;01mreturn\u001b[39;00m \u001b[38;5;28;43mself\u001b[39;49m\u001b[43m.\u001b[49m\u001b[43mexecute\u001b[49m\u001b[43m(\u001b[49m\u001b[43mCommand\u001b[49m\u001b[43m.\u001b[49m\u001b[43mFIND_ELEMENT\u001b[49m\u001b[43m,\u001b[49m\u001b[43m \u001b[49m\u001b[43m{\u001b[49m\u001b[33;43m\"\u001b[39;49m\u001b[33;43musing\u001b[39;49m\u001b[33;43m\"\u001b[39;49m\u001b[43m:\u001b[49m\u001b[43m \u001b[49m\u001b[43mby\u001b[49m\u001b[43m,\u001b[49m\u001b[43m \u001b[49m\u001b[33;43m\"\u001b[39;49m\u001b[33;43mvalue\u001b[39;49m\u001b[33;43m\"\u001b[39;49m\u001b[43m:\u001b[49m\u001b[43m \u001b[49m\u001b[43mvalue\u001b[49m\u001b[43m}\u001b[49m\u001b[43m)\u001b[49m[\u001b[33m\"\u001b[39m\u001b[33mvalue\u001b[39m\u001b[33m\"\u001b[39m]\n",
      "\u001b[36mFile \u001b[39m\u001b[32m~\\PycharmProjects\\AutoWppMsg\\.venv\\Lib\\site-packages\\selenium\\webdriver\\remote\\webdriver.py:448\u001b[39m, in \u001b[36mWebDriver.execute\u001b[39m\u001b[34m(self, driver_command, params)\u001b[39m\n\u001b[32m    446\u001b[39m response = \u001b[38;5;28mself\u001b[39m.command_executor.execute(driver_command, params)\n\u001b[32m    447\u001b[39m \u001b[38;5;28;01mif\u001b[39;00m response:\n\u001b[32m--> \u001b[39m\u001b[32m448\u001b[39m     \u001b[38;5;28;43mself\u001b[39;49m\u001b[43m.\u001b[49m\u001b[43merror_handler\u001b[49m\u001b[43m.\u001b[49m\u001b[43mcheck_response\u001b[49m\u001b[43m(\u001b[49m\u001b[43mresponse\u001b[49m\u001b[43m)\u001b[49m\n\u001b[32m    449\u001b[39m     response[\u001b[33m\"\u001b[39m\u001b[33mvalue\u001b[39m\u001b[33m\"\u001b[39m] = \u001b[38;5;28mself\u001b[39m._unwrap_value(response.get(\u001b[33m\"\u001b[39m\u001b[33mvalue\u001b[39m\u001b[33m\"\u001b[39m, \u001b[38;5;28;01mNone\u001b[39;00m))\n\u001b[32m    450\u001b[39m     \u001b[38;5;28;01mreturn\u001b[39;00m response\n",
      "\u001b[36mFile \u001b[39m\u001b[32m~\\PycharmProjects\\AutoWppMsg\\.venv\\Lib\\site-packages\\selenium\\webdriver\\remote\\errorhandler.py:232\u001b[39m, in \u001b[36mErrorHandler.check_response\u001b[39m\u001b[34m(self, response)\u001b[39m\n\u001b[32m    230\u001b[39m         alert_text = value[\u001b[33m\"\u001b[39m\u001b[33malert\u001b[39m\u001b[33m\"\u001b[39m].get(\u001b[33m\"\u001b[39m\u001b[33mtext\u001b[39m\u001b[33m\"\u001b[39m)\n\u001b[32m    231\u001b[39m     \u001b[38;5;28;01mraise\u001b[39;00m exception_class(message, screen, stacktrace, alert_text)  \u001b[38;5;66;03m# type: ignore[call-arg]  # mypy is not smart enough here\u001b[39;00m\n\u001b[32m--> \u001b[39m\u001b[32m232\u001b[39m \u001b[38;5;28;01mraise\u001b[39;00m exception_class(message, screen, stacktrace)\n",
      "\u001b[31mNoSuchElementException\u001b[39m: Message: no such element: Unable to locate element: {\"method\":\"xpath\",\"selector\":\"//*[@id=\"app\"]/div/span[6]/div/ul/div/div/li[2]/div\"}\n  (Session info: chrome=136.0.7103.94); For documentation on this error, please visit: https://www.selenium.dev/documentation/webdriver/troubleshooting/errors#no-such-element-exception\nStacktrace:\n\tGetHandleVerifier [0x00007FF7D63ACF65+75717]\n\tGetHandleVerifier [0x00007FF7D63ACFC0+75808]\n\t(No symbol) [0x00007FF7D6178F9A]\n\t(No symbol) [0x00007FF7D61CF4C6]\n\t(No symbol) [0x00007FF7D61CF77C]\n\t(No symbol) [0x00007FF7D6222577]\n\t(No symbol) [0x00007FF7D61F73BF]\n\t(No symbol) [0x00007FF7D621F39C]\n\t(No symbol) [0x00007FF7D61F7153]\n\t(No symbol) [0x00007FF7D61C0421]\n\t(No symbol) [0x00007FF7D61C11B3]\n\tGetHandleVerifier [0x00007FF7D66AD74D+3223469]\n\tGetHandleVerifier [0x00007FF7D66A7CF2+3200338]\n\tGetHandleVerifier [0x00007FF7D66C5B23+3322755]\n\tGetHandleVerifier [0x00007FF7D63C6A3A+180890]\n\tGetHandleVerifier [0x00007FF7D63CE13F+211359]\n\tGetHandleVerifier [0x00007FF7D63B52B4+109332]\n\tGetHandleVerifier [0x00007FF7D63B5462+109762]\n\tGetHandleVerifier [0x00007FF7D639BA79+4825]\n\tBaseThreadInitThunk [0x00007FFFFD96257D+29]\n\tRtlUserThreadStart [0x00007FFFFF08AF08+40]\n"
     ]
    }
   ],
   "source": [
    "from selenium import webdriver\n",
    "from selenium.webdriver.common.action_chains import ActionChains\n",
    "\n",
    "qtde_contatos = len(lista_contatos)\n",
    "if qtde_contatos % 5 == 0:\n",
    "    qtde_blocos = qtde_contatos / 5\n",
    "else:\n",
    "    qtde_blocos = int(qtde_contatos / 5) + 1\n",
    "for i in range(qtde_blocos):\n",
    "    # rodar o código de encaminhar\n",
    "    i_inicial = i * 5\n",
    "    i_final = (i + 1) * 5\n",
    "    lista_enviar = lista_contatos[i_inicial:i_final]\n",
    "    time.sleep(1)\n",
    "    # Localize o elemento onde deseja clicar com o botão direito\n",
    "    background = nav.find_element('xpath', '//*[@id=\"main\"]/div[3]/div/div[2]/div[3]')\n",
    "    \n",
    "    # Crie uma instância de ActionChains\n",
    "    action_chains = ActionChains(nav)\n",
    "    \n",
    "    # Mova o cursor do mouse para o elemento desejado\n",
    "    action_chains.move_to_element(background)\n",
    "    \n",
    "    # Execute o clique com o botão direito do mouse\n",
    "    action_chains.context_click().perform()\n",
    "    time.sleep(2)\n",
    "    # Clica Encaminhar\n",
    "    nav.find_element('xpath', '//*[@id=\"app\"]/div/span[6]/div/ul/div/div/li[2]/div').click()\n",
    "    time.sleep(1)\n",
    "\n",
    "    # Encontra todas as caixas de mensagem na conversa\n",
    "    mensagens = nav.find_elements('xpath', '//*[@id=\"main\"]/div[3]/div/div[2]/div[3]/div')\n",
    "    \n",
    "    # Pega a última mensagem (último elemento da lista)\n",
    "    ultima_msg = mensagens[-1]\n",
    "    \n",
    "    # Clica na caixinha da última mensagem\n",
    "    ultima_msg.click()\n",
    "    \n",
    "    # Clica em encaminhar\n",
    "    nav.find_element('xpath', '//*[@id=\"main\"]/span[2]/div/button[4]/span').click()\n",
    "    for nome in lista_enviar:\n",
    "        # selecionar 5 contatos para enviar\n",
    "        # escreve nome do contato\n",
    "        nav.find_element('xpath', '//*[@id=\"app\"]/div/span[2]/div/div/div/div/div/div/div/div[1]/div/div[2]/div/div/div/p').send_keys(nome)\n",
    "        time.sleep(1)\n",
    "        nav.find_element('xpath', '//*[@id=\"app\"]/div/span[2]/div/div/div/div/div/div/div/div[1]/div/div[2]/div/div/div/p').send_keys(Keys.ENTER)\n",
    "        time.sleep(1)\n",
    "        nav.find_element('xpath', '//*[@id=\"app\"]/div/span[2]/div/div/div/div/div/div/div/div[1]/div/div[2]/div/div/div/p').send_keys(Keys.BACKSPACE)\n",
    "        time.sleep(1)\n",
    "    nav.find_element('xpath', '//*[@id=\"app\"]/div/span[2]/div/div/div/div/div/div/div/span/div/div/div/span').click()\n",
    "    time.sleep(3)\n",
    "    \n",
    "    \n",
    "        "
   ]
  },
  {
   "cell_type": "code",
   "execution_count": null,
   "id": "cd6a833d-7e3a-4c83-984d-d225b57eb171",
   "metadata": {},
   "outputs": [],
   "source": []
  }
 ],
 "metadata": {
  "kernelspec": {
   "display_name": "Python 3 (ipykernel)",
   "language": "python",
   "name": "python3"
  },
  "language_info": {
   "codemirror_mode": {
    "name": "ipython",
    "version": 3
   },
   "file_extension": ".py",
   "mimetype": "text/x-python",
   "name": "python",
   "nbconvert_exporter": "python",
   "pygments_lexer": "ipython3",
   "version": "3.13.3"
  }
 },
 "nbformat": 4,
 "nbformat_minor": 5
}
